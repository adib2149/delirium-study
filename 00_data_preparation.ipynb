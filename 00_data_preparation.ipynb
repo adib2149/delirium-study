{
 "cells": [
  {
   "cell_type": "markdown",
   "metadata": {},
   "source": [
    "- [X] see sql5 file\n",
    "- [X] variable match and selection\n",
    "- [ ] define inclusion-exclusion criteria\n",
    "- [ ] define target trial (cite hernan)"
   ]
  },
  {
   "cell_type": "markdown",
   "metadata": {},
   "source": [
    "# All the features (Slide 11, page 14)\n",
    "\n",
    "### Demographic:\n",
    "- Gender *\n",
    "- Age (IQR) *\n",
    "- Ethnicity (Race: White, black, multiple or others) *\n",
    "### Diseases:\n",
    "- Other diseases (icd9 codes) *\n",
    "- Surgery *\n",
    "- Pneumonia *\n",
    "- Infection\n",
    "- Sepsis (diagnosis at admission) *\n",
    "- Dementia *\n",
    "- Alzheimer's *\n",
    "- Depression *\n",
    "- Anxiety *\n",
    "- Coma (drug induced, miscellaneous, combination)\n",
    "- Metabolic acidosis\n",
    "- Respiratory failure\n",
    "- ARDS (diagnosis at admission)\n",
    "- Airway Protection (diagnosis at admission)\n",
    "- Chronic Obstructive Pulmonary Disease, Asthma, or other pulmonary disorder (diagnosis at admission)\n",
    "- Chronic heart failure, myocardial infarction, or arrhythmia (diagnosis at admission)\n",
    "- Cirrhosis or Liver failure (diagnosis at admission)\n",
    "- Other (diagnosis at admission)\n",
    "### Drugs:\n",
    "- List of drugs prescribed *\n",
    "- Received APD treatment - no (%) (before admission, before admission and randomization)\n",
    "- APD prescribed *\n",
    "- Distinct APD categories *\n",
    "### Admission events:\n",
    "- Admission category (surgical, medical, trauma, neurology/neurosurgical)\n",
    "- Length of stay *\n",
    "- Mechanical ventilation ^*\n",
    "- Mechanical ventilation hours ^ *\n",
    "- Sedatives use (yes)\n",
    "- Morphine use (mg/day)\n",
    "- Urea concentration (mmol/L)\n",
    "- Urgent admission (%)\n",
    "- Hx of cognitive impairment\n",
    "- Hx of ETOH use \n",
    "- MAP (mean arterial blood pressure) at the time of ICU admission\n",
    "- Use of Corticosteroids\n",
    "- BUN (blood urea nitrogen) at the of ICU admission\n",
    "- Admitted to Surgical ICU - no (%)\n",
    "- Received assisted ventilation before randomization - no (%) Invasive and Noninvasive\n",
    "- Shock before randomization - no (%)\n",
    "- Median no of days from ICU admission to randomization - (IQR)\n",
    "### Evaluation:\n",
    "- APACHE-II score (Acute Physiology & Chronic Health Evaluation) (at randomization)\n",
    " - APSIII in place of Apache score https://github.com/MIT-LCP/mimic-code/issues/653\n",
    "- Median Short-form IQCODE score (IQR)\n",
    "- Median Charlson Comorbidity Index Score (IQR)\n",
    "- Median SOFA score at randomization\n",
    "- Hyperactive Delirium at Randomization- no (%)\n",
    "- Hypoactive Delirium at Randomization - no (%)\n",
    "### Outcomes:\n",
    "- Death in hospital *\n",
    "- Death in one year *"
   ]
  },
  {
   "cell_type": "code",
   "execution_count": 1,
   "metadata": {},
   "outputs": [],
   "source": [
    "import pandas as pd\n",
    "import numpy as np"
   ]
  },
  {
   "cell_type": "code",
   "execution_count": 2,
   "metadata": {},
   "outputs": [],
   "source": [
    "pd.set_option('display.max_columns', None)"
   ]
  },
  {
   "cell_type": "code",
   "execution_count": 3,
   "metadata": {},
   "outputs": [
    {
     "ename": "FileNotFoundError",
     "evalue": "[Errno 2] No such file or directory: 'delirium_data.csv'",
     "output_type": "error",
     "traceback": [
      "\u001b[0;31m---------------------------------------------------------------------------\u001b[0m",
      "\u001b[0;31mFileNotFoundError\u001b[0m                         Traceback (most recent call last)",
      "Cell \u001b[0;32mIn [3], line 1\u001b[0m\n\u001b[0;32m----> 1\u001b[0m data \u001b[38;5;241m=\u001b[39m \u001b[43mpd\u001b[49m\u001b[38;5;241;43m.\u001b[39;49m\u001b[43mread_csv\u001b[49m\u001b[43m(\u001b[49m\u001b[38;5;124;43m\"\u001b[39;49m\u001b[38;5;124;43mdelirium_data.csv\u001b[39;49m\u001b[38;5;124;43m\"\u001b[39;49m\u001b[43m)\u001b[49m\n",
      "File \u001b[0;32m~/.virtualenvs/delirium/lib/python3.9/site-packages/pandas/util/_decorators.py:211\u001b[0m, in \u001b[0;36mdeprecate_kwarg.<locals>._deprecate_kwarg.<locals>.wrapper\u001b[0;34m(*args, **kwargs)\u001b[0m\n\u001b[1;32m    209\u001b[0m     \u001b[38;5;28;01melse\u001b[39;00m:\n\u001b[1;32m    210\u001b[0m         kwargs[new_arg_name] \u001b[38;5;241m=\u001b[39m new_arg_value\n\u001b[0;32m--> 211\u001b[0m \u001b[38;5;28;01mreturn\u001b[39;00m \u001b[43mfunc\u001b[49m\u001b[43m(\u001b[49m\u001b[38;5;241;43m*\u001b[39;49m\u001b[43margs\u001b[49m\u001b[43m,\u001b[49m\u001b[43m \u001b[49m\u001b[38;5;241;43m*\u001b[39;49m\u001b[38;5;241;43m*\u001b[39;49m\u001b[43mkwargs\u001b[49m\u001b[43m)\u001b[49m\n",
      "File \u001b[0;32m~/.virtualenvs/delirium/lib/python3.9/site-packages/pandas/util/_decorators.py:331\u001b[0m, in \u001b[0;36mdeprecate_nonkeyword_arguments.<locals>.decorate.<locals>.wrapper\u001b[0;34m(*args, **kwargs)\u001b[0m\n\u001b[1;32m    325\u001b[0m \u001b[38;5;28;01mif\u001b[39;00m \u001b[38;5;28mlen\u001b[39m(args) \u001b[38;5;241m>\u001b[39m num_allow_args:\n\u001b[1;32m    326\u001b[0m     warnings\u001b[38;5;241m.\u001b[39mwarn(\n\u001b[1;32m    327\u001b[0m         msg\u001b[38;5;241m.\u001b[39mformat(arguments\u001b[38;5;241m=\u001b[39m_format_argument_list(allow_args)),\n\u001b[1;32m    328\u001b[0m         \u001b[38;5;167;01mFutureWarning\u001b[39;00m,\n\u001b[1;32m    329\u001b[0m         stacklevel\u001b[38;5;241m=\u001b[39mfind_stack_level(),\n\u001b[1;32m    330\u001b[0m     )\n\u001b[0;32m--> 331\u001b[0m \u001b[38;5;28;01mreturn\u001b[39;00m \u001b[43mfunc\u001b[49m\u001b[43m(\u001b[49m\u001b[38;5;241;43m*\u001b[39;49m\u001b[43margs\u001b[49m\u001b[43m,\u001b[49m\u001b[43m \u001b[49m\u001b[38;5;241;43m*\u001b[39;49m\u001b[38;5;241;43m*\u001b[39;49m\u001b[43mkwargs\u001b[49m\u001b[43m)\u001b[49m\n",
      "File \u001b[0;32m~/.virtualenvs/delirium/lib/python3.9/site-packages/pandas/io/parsers/readers.py:950\u001b[0m, in \u001b[0;36mread_csv\u001b[0;34m(filepath_or_buffer, sep, delimiter, header, names, index_col, usecols, squeeze, prefix, mangle_dupe_cols, dtype, engine, converters, true_values, false_values, skipinitialspace, skiprows, skipfooter, nrows, na_values, keep_default_na, na_filter, verbose, skip_blank_lines, parse_dates, infer_datetime_format, keep_date_col, date_parser, dayfirst, cache_dates, iterator, chunksize, compression, thousands, decimal, lineterminator, quotechar, quoting, doublequote, escapechar, comment, encoding, encoding_errors, dialect, error_bad_lines, warn_bad_lines, on_bad_lines, delim_whitespace, low_memory, memory_map, float_precision, storage_options)\u001b[0m\n\u001b[1;32m    935\u001b[0m kwds_defaults \u001b[38;5;241m=\u001b[39m _refine_defaults_read(\n\u001b[1;32m    936\u001b[0m     dialect,\n\u001b[1;32m    937\u001b[0m     delimiter,\n\u001b[0;32m   (...)\u001b[0m\n\u001b[1;32m    946\u001b[0m     defaults\u001b[38;5;241m=\u001b[39m{\u001b[38;5;124m\"\u001b[39m\u001b[38;5;124mdelimiter\u001b[39m\u001b[38;5;124m\"\u001b[39m: \u001b[38;5;124m\"\u001b[39m\u001b[38;5;124m,\u001b[39m\u001b[38;5;124m\"\u001b[39m},\n\u001b[1;32m    947\u001b[0m )\n\u001b[1;32m    948\u001b[0m kwds\u001b[38;5;241m.\u001b[39mupdate(kwds_defaults)\n\u001b[0;32m--> 950\u001b[0m \u001b[38;5;28;01mreturn\u001b[39;00m \u001b[43m_read\u001b[49m\u001b[43m(\u001b[49m\u001b[43mfilepath_or_buffer\u001b[49m\u001b[43m,\u001b[49m\u001b[43m \u001b[49m\u001b[43mkwds\u001b[49m\u001b[43m)\u001b[49m\n",
      "File \u001b[0;32m~/.virtualenvs/delirium/lib/python3.9/site-packages/pandas/io/parsers/readers.py:605\u001b[0m, in \u001b[0;36m_read\u001b[0;34m(filepath_or_buffer, kwds)\u001b[0m\n\u001b[1;32m    602\u001b[0m _validate_names(kwds\u001b[38;5;241m.\u001b[39mget(\u001b[38;5;124m\"\u001b[39m\u001b[38;5;124mnames\u001b[39m\u001b[38;5;124m\"\u001b[39m, \u001b[38;5;28;01mNone\u001b[39;00m))\n\u001b[1;32m    604\u001b[0m \u001b[38;5;66;03m# Create the parser.\u001b[39;00m\n\u001b[0;32m--> 605\u001b[0m parser \u001b[38;5;241m=\u001b[39m \u001b[43mTextFileReader\u001b[49m\u001b[43m(\u001b[49m\u001b[43mfilepath_or_buffer\u001b[49m\u001b[43m,\u001b[49m\u001b[43m \u001b[49m\u001b[38;5;241;43m*\u001b[39;49m\u001b[38;5;241;43m*\u001b[39;49m\u001b[43mkwds\u001b[49m\u001b[43m)\u001b[49m\n\u001b[1;32m    607\u001b[0m \u001b[38;5;28;01mif\u001b[39;00m chunksize \u001b[38;5;129;01mor\u001b[39;00m iterator:\n\u001b[1;32m    608\u001b[0m     \u001b[38;5;28;01mreturn\u001b[39;00m parser\n",
      "File \u001b[0;32m~/.virtualenvs/delirium/lib/python3.9/site-packages/pandas/io/parsers/readers.py:1442\u001b[0m, in \u001b[0;36mTextFileReader.__init__\u001b[0;34m(self, f, engine, **kwds)\u001b[0m\n\u001b[1;32m   1439\u001b[0m     \u001b[38;5;28mself\u001b[39m\u001b[38;5;241m.\u001b[39moptions[\u001b[38;5;124m\"\u001b[39m\u001b[38;5;124mhas_index_names\u001b[39m\u001b[38;5;124m\"\u001b[39m] \u001b[38;5;241m=\u001b[39m kwds[\u001b[38;5;124m\"\u001b[39m\u001b[38;5;124mhas_index_names\u001b[39m\u001b[38;5;124m\"\u001b[39m]\n\u001b[1;32m   1441\u001b[0m \u001b[38;5;28mself\u001b[39m\u001b[38;5;241m.\u001b[39mhandles: IOHandles \u001b[38;5;241m|\u001b[39m \u001b[38;5;28;01mNone\u001b[39;00m \u001b[38;5;241m=\u001b[39m \u001b[38;5;28;01mNone\u001b[39;00m\n\u001b[0;32m-> 1442\u001b[0m \u001b[38;5;28mself\u001b[39m\u001b[38;5;241m.\u001b[39m_engine \u001b[38;5;241m=\u001b[39m \u001b[38;5;28;43mself\u001b[39;49m\u001b[38;5;241;43m.\u001b[39;49m\u001b[43m_make_engine\u001b[49m\u001b[43m(\u001b[49m\u001b[43mf\u001b[49m\u001b[43m,\u001b[49m\u001b[43m \u001b[49m\u001b[38;5;28;43mself\u001b[39;49m\u001b[38;5;241;43m.\u001b[39;49m\u001b[43mengine\u001b[49m\u001b[43m)\u001b[49m\n",
      "File \u001b[0;32m~/.virtualenvs/delirium/lib/python3.9/site-packages/pandas/io/parsers/readers.py:1735\u001b[0m, in \u001b[0;36mTextFileReader._make_engine\u001b[0;34m(self, f, engine)\u001b[0m\n\u001b[1;32m   1733\u001b[0m     \u001b[38;5;28;01mif\u001b[39;00m \u001b[38;5;124m\"\u001b[39m\u001b[38;5;124mb\u001b[39m\u001b[38;5;124m\"\u001b[39m \u001b[38;5;129;01mnot\u001b[39;00m \u001b[38;5;129;01min\u001b[39;00m mode:\n\u001b[1;32m   1734\u001b[0m         mode \u001b[38;5;241m+\u001b[39m\u001b[38;5;241m=\u001b[39m \u001b[38;5;124m\"\u001b[39m\u001b[38;5;124mb\u001b[39m\u001b[38;5;124m\"\u001b[39m\n\u001b[0;32m-> 1735\u001b[0m \u001b[38;5;28mself\u001b[39m\u001b[38;5;241m.\u001b[39mhandles \u001b[38;5;241m=\u001b[39m \u001b[43mget_handle\u001b[49m\u001b[43m(\u001b[49m\n\u001b[1;32m   1736\u001b[0m \u001b[43m    \u001b[49m\u001b[43mf\u001b[49m\u001b[43m,\u001b[49m\n\u001b[1;32m   1737\u001b[0m \u001b[43m    \u001b[49m\u001b[43mmode\u001b[49m\u001b[43m,\u001b[49m\n\u001b[1;32m   1738\u001b[0m \u001b[43m    \u001b[49m\u001b[43mencoding\u001b[49m\u001b[38;5;241;43m=\u001b[39;49m\u001b[38;5;28;43mself\u001b[39;49m\u001b[38;5;241;43m.\u001b[39;49m\u001b[43moptions\u001b[49m\u001b[38;5;241;43m.\u001b[39;49m\u001b[43mget\u001b[49m\u001b[43m(\u001b[49m\u001b[38;5;124;43m\"\u001b[39;49m\u001b[38;5;124;43mencoding\u001b[39;49m\u001b[38;5;124;43m\"\u001b[39;49m\u001b[43m,\u001b[49m\u001b[43m \u001b[49m\u001b[38;5;28;43;01mNone\u001b[39;49;00m\u001b[43m)\u001b[49m\u001b[43m,\u001b[49m\n\u001b[1;32m   1739\u001b[0m \u001b[43m    \u001b[49m\u001b[43mcompression\u001b[49m\u001b[38;5;241;43m=\u001b[39;49m\u001b[38;5;28;43mself\u001b[39;49m\u001b[38;5;241;43m.\u001b[39;49m\u001b[43moptions\u001b[49m\u001b[38;5;241;43m.\u001b[39;49m\u001b[43mget\u001b[49m\u001b[43m(\u001b[49m\u001b[38;5;124;43m\"\u001b[39;49m\u001b[38;5;124;43mcompression\u001b[39;49m\u001b[38;5;124;43m\"\u001b[39;49m\u001b[43m,\u001b[49m\u001b[43m \u001b[49m\u001b[38;5;28;43;01mNone\u001b[39;49;00m\u001b[43m)\u001b[49m\u001b[43m,\u001b[49m\n\u001b[1;32m   1740\u001b[0m \u001b[43m    \u001b[49m\u001b[43mmemory_map\u001b[49m\u001b[38;5;241;43m=\u001b[39;49m\u001b[38;5;28;43mself\u001b[39;49m\u001b[38;5;241;43m.\u001b[39;49m\u001b[43moptions\u001b[49m\u001b[38;5;241;43m.\u001b[39;49m\u001b[43mget\u001b[49m\u001b[43m(\u001b[49m\u001b[38;5;124;43m\"\u001b[39;49m\u001b[38;5;124;43mmemory_map\u001b[39;49m\u001b[38;5;124;43m\"\u001b[39;49m\u001b[43m,\u001b[49m\u001b[43m \u001b[49m\u001b[38;5;28;43;01mFalse\u001b[39;49;00m\u001b[43m)\u001b[49m\u001b[43m,\u001b[49m\n\u001b[1;32m   1741\u001b[0m \u001b[43m    \u001b[49m\u001b[43mis_text\u001b[49m\u001b[38;5;241;43m=\u001b[39;49m\u001b[43mis_text\u001b[49m\u001b[43m,\u001b[49m\n\u001b[1;32m   1742\u001b[0m \u001b[43m    \u001b[49m\u001b[43merrors\u001b[49m\u001b[38;5;241;43m=\u001b[39;49m\u001b[38;5;28;43mself\u001b[39;49m\u001b[38;5;241;43m.\u001b[39;49m\u001b[43moptions\u001b[49m\u001b[38;5;241;43m.\u001b[39;49m\u001b[43mget\u001b[49m\u001b[43m(\u001b[49m\u001b[38;5;124;43m\"\u001b[39;49m\u001b[38;5;124;43mencoding_errors\u001b[39;49m\u001b[38;5;124;43m\"\u001b[39;49m\u001b[43m,\u001b[49m\u001b[43m \u001b[49m\u001b[38;5;124;43m\"\u001b[39;49m\u001b[38;5;124;43mstrict\u001b[39;49m\u001b[38;5;124;43m\"\u001b[39;49m\u001b[43m)\u001b[49m\u001b[43m,\u001b[49m\n\u001b[1;32m   1743\u001b[0m \u001b[43m    \u001b[49m\u001b[43mstorage_options\u001b[49m\u001b[38;5;241;43m=\u001b[39;49m\u001b[38;5;28;43mself\u001b[39;49m\u001b[38;5;241;43m.\u001b[39;49m\u001b[43moptions\u001b[49m\u001b[38;5;241;43m.\u001b[39;49m\u001b[43mget\u001b[49m\u001b[43m(\u001b[49m\u001b[38;5;124;43m\"\u001b[39;49m\u001b[38;5;124;43mstorage_options\u001b[39;49m\u001b[38;5;124;43m\"\u001b[39;49m\u001b[43m,\u001b[49m\u001b[43m \u001b[49m\u001b[38;5;28;43;01mNone\u001b[39;49;00m\u001b[43m)\u001b[49m\u001b[43m,\u001b[49m\n\u001b[1;32m   1744\u001b[0m \u001b[43m\u001b[49m\u001b[43m)\u001b[49m\n\u001b[1;32m   1745\u001b[0m \u001b[38;5;28;01massert\u001b[39;00m \u001b[38;5;28mself\u001b[39m\u001b[38;5;241m.\u001b[39mhandles \u001b[38;5;129;01mis\u001b[39;00m \u001b[38;5;129;01mnot\u001b[39;00m \u001b[38;5;28;01mNone\u001b[39;00m\n\u001b[1;32m   1746\u001b[0m f \u001b[38;5;241m=\u001b[39m \u001b[38;5;28mself\u001b[39m\u001b[38;5;241m.\u001b[39mhandles\u001b[38;5;241m.\u001b[39mhandle\n",
      "File \u001b[0;32m~/.virtualenvs/delirium/lib/python3.9/site-packages/pandas/io/common.py:856\u001b[0m, in \u001b[0;36mget_handle\u001b[0;34m(path_or_buf, mode, encoding, compression, memory_map, is_text, errors, storage_options)\u001b[0m\n\u001b[1;32m    851\u001b[0m \u001b[38;5;28;01melif\u001b[39;00m \u001b[38;5;28misinstance\u001b[39m(handle, \u001b[38;5;28mstr\u001b[39m):\n\u001b[1;32m    852\u001b[0m     \u001b[38;5;66;03m# Check whether the filename is to be opened in binary mode.\u001b[39;00m\n\u001b[1;32m    853\u001b[0m     \u001b[38;5;66;03m# Binary mode does not support 'encoding' and 'newline'.\u001b[39;00m\n\u001b[1;32m    854\u001b[0m     \u001b[38;5;28;01mif\u001b[39;00m ioargs\u001b[38;5;241m.\u001b[39mencoding \u001b[38;5;129;01mand\u001b[39;00m \u001b[38;5;124m\"\u001b[39m\u001b[38;5;124mb\u001b[39m\u001b[38;5;124m\"\u001b[39m \u001b[38;5;129;01mnot\u001b[39;00m \u001b[38;5;129;01min\u001b[39;00m ioargs\u001b[38;5;241m.\u001b[39mmode:\n\u001b[1;32m    855\u001b[0m         \u001b[38;5;66;03m# Encoding\u001b[39;00m\n\u001b[0;32m--> 856\u001b[0m         handle \u001b[38;5;241m=\u001b[39m \u001b[38;5;28;43mopen\u001b[39;49m\u001b[43m(\u001b[49m\n\u001b[1;32m    857\u001b[0m \u001b[43m            \u001b[49m\u001b[43mhandle\u001b[49m\u001b[43m,\u001b[49m\n\u001b[1;32m    858\u001b[0m \u001b[43m            \u001b[49m\u001b[43mioargs\u001b[49m\u001b[38;5;241;43m.\u001b[39;49m\u001b[43mmode\u001b[49m\u001b[43m,\u001b[49m\n\u001b[1;32m    859\u001b[0m \u001b[43m            \u001b[49m\u001b[43mencoding\u001b[49m\u001b[38;5;241;43m=\u001b[39;49m\u001b[43mioargs\u001b[49m\u001b[38;5;241;43m.\u001b[39;49m\u001b[43mencoding\u001b[49m\u001b[43m,\u001b[49m\n\u001b[1;32m    860\u001b[0m \u001b[43m            \u001b[49m\u001b[43merrors\u001b[49m\u001b[38;5;241;43m=\u001b[39;49m\u001b[43merrors\u001b[49m\u001b[43m,\u001b[49m\n\u001b[1;32m    861\u001b[0m \u001b[43m            \u001b[49m\u001b[43mnewline\u001b[49m\u001b[38;5;241;43m=\u001b[39;49m\u001b[38;5;124;43m\"\u001b[39;49m\u001b[38;5;124;43m\"\u001b[39;49m\u001b[43m,\u001b[49m\n\u001b[1;32m    862\u001b[0m \u001b[43m        \u001b[49m\u001b[43m)\u001b[49m\n\u001b[1;32m    863\u001b[0m     \u001b[38;5;28;01melse\u001b[39;00m:\n\u001b[1;32m    864\u001b[0m         \u001b[38;5;66;03m# Binary mode\u001b[39;00m\n\u001b[1;32m    865\u001b[0m         handle \u001b[38;5;241m=\u001b[39m \u001b[38;5;28mopen\u001b[39m(handle, ioargs\u001b[38;5;241m.\u001b[39mmode)\n",
      "\u001b[0;31mFileNotFoundError\u001b[0m: [Errno 2] No such file or directory: 'delirium_data.csv'"
     ]
    }
   ],
   "source": [
    "data = pd.read_csv(\"delirium_data.csv\")"
   ]
  },
  {
   "cell_type": "code",
   "execution_count": null,
   "metadata": {},
   "outputs": [],
   "source": [
    "data.shape"
   ]
  },
  {
   "cell_type": "code",
   "execution_count": null,
   "metadata": {},
   "outputs": [],
   "source": [
    "data.columns"
   ]
  },
  {
   "cell_type": "markdown",
   "metadata": {},
   "source": [
    "# Deleted deathtime\n",
    "- ADMISSIONS.DEATHTIME (https://mimic.mit.edu/docs/iii/tables/admissions/)\n",
    " - If applicable, DEATHTIME provides the time of in-hospital death for the patient. Note that DEATHTIME is only present if the patient died in-hospital, and is almost always the same as the patient’s DISCHTIME. However, there can be some discrepancies due to typographical errors.\n",
    " - Use to find death in hospital\n",
    "\n",
    "- PATIENTS.DOD (https://mimic.mit.edu/docs/iii/tables/patients/)\n",
    " - DOD is the date of death for the given patient. DOD_HOSP is the date of death as recorded in the hospital database. DOD_SSN is the date of death from the social security database. Note that DOD merged together DOD_HOSP and DOD_SSN, giving priority to DOD_HOSP if both were recorded.\n",
    " - Real death time\n",
    " \n",
    "- Just DOD works fine."
   ]
  },
  {
   "cell_type": "code",
   "execution_count": null,
   "metadata": {},
   "outputs": [],
   "source": [
    "data = data.drop('deathtime', 1)\n",
    "\n",
    "data = data.rename(columns={\n",
    "    \"dist_cat_count\": \"drug_categories_distinct_count\", \n",
    "    \"gender\": \"sex\", \n",
    "    \"patient_deathtime\": \"deathtime\", \n",
    "    \"mechvent\": \"mechvent_count\", \n",
    "    \"had_surgery\": \"surgery\", \n",
    "    \"had_pneu\": \"pneumonia\"})"
   ]
  },
  {
   "cell_type": "code",
   "execution_count": null,
   "metadata": {},
   "outputs": [],
   "source": [
    "data.shape"
   ]
  },
  {
   "cell_type": "code",
   "execution_count": null,
   "metadata": {},
   "outputs": [],
   "source": [
    "data.columns"
   ]
  },
  {
   "cell_type": "code",
   "execution_count": null,
   "metadata": {},
   "outputs": [],
   "source": [
    "data.sofa = data.sofa.fillna(-1)\n",
    "data.apsiii = data.apsiii.fillna(-1)"
   ]
  },
  {
   "cell_type": "code",
   "execution_count": null,
   "metadata": {},
   "outputs": [],
   "source": [
    "data.icustay_id = data.icustay_id.fillna(0)\n",
    "data.surgery = data.surgery.fillna(2)\n",
    "data = data.astype({\"icustay_id\": int, \"sofa\": int, \"apsiii\": int, \"sex\": 'category', \"ethnicity\": 'category', \"surgery\": int})"
   ]
  },
  {
   "cell_type": "code",
   "execution_count": null,
   "metadata": {},
   "outputs": [],
   "source": [
    "data.info()"
   ]
  },
  {
   "cell_type": "code",
   "execution_count": null,
   "metadata": {},
   "outputs": [],
   "source": [
    "data.sample(10)"
   ]
  },
  {
   "cell_type": "markdown",
   "metadata": {},
   "source": [
    "# Checking for unique values and resolving if necessary"
   ]
  },
  {
   "cell_type": "code",
   "execution_count": null,
   "metadata": {},
   "outputs": [],
   "source": [
    "print(len(data.subject_id.unique()))\n",
    "print(len(data.hadm_id.unique()))\n",
    "print(len(data.icustay_id.unique()))"
   ]
  },
  {
   "cell_type": "code",
   "execution_count": null,
   "metadata": {},
   "outputs": [],
   "source": [
    "print(\"number of cases:\", data[data.icustay_id.duplicated(keep=False)].shape)\n",
    "data[data.icustay_id.duplicated(keep=False)]"
   ]
  },
  {
   "cell_type": "markdown",
   "metadata": {},
   "source": [
    "Seems like they are six unique icu stay case, just with icustay_id missing, so we can ignore this issue now."
   ]
  },
  {
   "cell_type": "code",
   "execution_count": null,
   "metadata": {},
   "outputs": [],
   "source": [
    "print(\"number of cases:\", data[data.hadm_id.duplicated(keep=False)].shape)\n",
    "data[data.hadm_id.duplicated(keep=False)].head(5)"
   ]
  },
  {
   "cell_type": "code",
   "execution_count": null,
   "metadata": {},
   "outputs": [],
   "source": [
    "temp = data[data.hadm_id.duplicated(keep=False)]\n",
    "for i in temp.subject_id.unique():\n",
    "    temp2 = temp[temp.subject_id == i]\n",
    "    if (temp2.shape[0] != len(temp2.icustay_id.unique())): # check for unique icustay_id for each individual\n",
    "        print(i)"
   ]
  },
  {
   "cell_type": "markdown",
   "metadata": {},
   "source": [
    "They all have unique icustay_id, so treating as individual persons"
   ]
  },
  {
   "cell_type": "code",
   "execution_count": null,
   "metadata": {},
   "outputs": [],
   "source": [
    "print(\"number of cases:\", data[data.subject_id.duplicated(keep=False)].shape)\n",
    "data[data.subject_id.duplicated(keep=False)].head(5)"
   ]
  },
  {
   "cell_type": "markdown",
   "metadata": {},
   "source": [
    "# Explore other icd9 codes"
   ]
  },
  {
   "cell_type": "code",
   "execution_count": null,
   "metadata": {},
   "outputs": [],
   "source": [
    "# data[data.icd9_codes.str.contains(\"518\")]\n",
    "all_icd_codes = pd.DataFrame(columns = [\"shortcode\", \"longcode\", \"name\", \"count\"])\n",
    "for i in data.index:\n",
    "    codes = data.icd9_codes[i].split(\"\\n\")\n",
    "    for c in codes:\n",
    "        shortcode = c[0:3]\n",
    "        longcode = c.split(\":\")[0]\n",
    "        name = c.split(\": \")[1]\n",
    "        ind_for_data_entry = all_icd_codes[all_icd_codes.longcode == longcode]\n",
    "        if (len(ind_for_data_entry) == 0):\n",
    "            all_icd_codes = pd.concat([all_icd_codes, pd.DataFrame(data={\"shortcode\": shortcode, \"longcode\":longcode, \"name\":name, \"count\":1}, index=[0])], axis=0, ignore_index=True)\n",
    "        else:\n",
    "            all_icd_codes.at[ind_for_data_entry.index[0],\"count\"] += 1"
   ]
  },
  {
   "cell_type": "code",
   "execution_count": null,
   "metadata": {},
   "outputs": [],
   "source": [
    "all_icd_codes.shape"
   ]
  },
  {
   "cell_type": "code",
   "execution_count": null,
   "metadata": {},
   "outputs": [],
   "source": [
    "# pd.set_option('display.max_colwidth', None)"
   ]
  },
  {
   "cell_type": "markdown",
   "metadata": {},
   "source": [
    "- https://www.findacode.com/search/search.php\n",
    "- http://www.icd9data.com/2015/Volume1/\n",
    "\n",
    "- Other diseases (icd9 codes) *\n",
    "- Surgery *\n",
    "- Pneumonia *\n",
    "- Infection\n",
    "- Sepsis (diagnosis at admission) *\n",
    "- Dementia *\n",
    "- Alzheimer's *\n",
    "- Depression *\n",
    "- Anxiety *\n",
    "- (COMPLEX) Coma (drug induced, miscellaneous, combination) [use name.str search with coma]\n",
    "- Metabolic acidosis * [276.2]\n",
    "- (COMPLEX) Respiratory failure [518.51, 518.53, 518.81, 581.83, 581.84, 799.1]\n",
    "- (COMPLEX) ARDS (diagnosis at admission) [its complex since requires many other data, https://journals.plos.org/plosone/article?id=10.1371/journal.pone.0257056]\n",
    "- Airway Protection * (diagnosis at admission) [496] \n",
    "- [490-496] Chronic Obstructive Pulmonary Disease, [493] Asthma, or [496] other pulmonary disorder (diagnosis at admission)\n",
    " - COPD * [490-496]: a group of diseases that cause airflow blockage and breathing-related problems\n",
    "- [428] Chronic heart failure, [410] myocardial infarction, or [427] AF and arrhythmia (diagnosis at admission)\n",
    " - heart issues *\n",
    "- [571] Cirrhosis or [570] Liver failure (diagnosis at admission)\n",
    " - Liver issues *\n",
    "- Other (diagnosis at admission)"
   ]
  },
  {
   "cell_type": "code",
   "execution_count": null,
   "metadata": {},
   "outputs": [],
   "source": [
    "data[data.icd9_codes.str.contains(\"496: Chr airway obstruct NEC\")].shape"
   ]
  },
  {
   "cell_type": "code",
   "execution_count": null,
   "metadata": {},
   "outputs": [],
   "source": [
    "all_icd_codes[all_icd_codes.name.str.contains(\"sepsis\")]"
   ]
  },
  {
   "cell_type": "code",
   "execution_count": null,
   "metadata": {},
   "outputs": [],
   "source": [
    "data['met_acidosis'] = np.where(data.icd9_codes.str.contains(\"2764: Mixed acid-base bal dis\"), 1, 0)\n",
    "data['airway_obs'] = np.where(data.icd9_codes.str.contains(\"496: Chr airway obstruct NEC\"), 1, 0)\n",
    "\n",
    "copd_codes = ['490: Bronchitis NOS', '49121: Obs chr bronc w(ac) exac', \n",
    "              '4928: Emphysema NEC', '49392: Asthma NOS w (ac) exac', \n",
    "              '4941: Bronchiectasis w ac exac', '4957: \"ventilation\" pneumonit', \n",
    "              '496: Chr airway obstruct NEC']\n",
    "data['copd'] = np.where(data.icd9_codes.str.contains('|'.join(copd_codes)), 1, 0)\n",
    "\n",
    "liver_codes = ['570: Acute necrosis of liver', '5715: Cirrhosis of liver NOS']\n",
    "data['liver_disease'] = np.where(data.icd9_codes.str.contains('|'.join(liver_codes)), 1, 0)\n",
    "\n",
    "heart_codes = []\n",
    "heart_icd_codes = all_icd_codes[all_icd_codes.shortcode.str.contains(\"410|427|428\")]\n",
    "for i in heart_icd_codes.index:\n",
    "    heart_codes.append(heart_icd_codes.longcode[i] + \": \" + heart_icd_codes.name[i])\n",
    "print(heart_codes)\n",
    "data['heart_disease'] = np.where(data.icd9_codes.str.contains('|'.join(heart_codes)), 1, 0)"
   ]
  },
  {
   "cell_type": "code",
   "execution_count": null,
   "metadata": {},
   "outputs": [],
   "source": [
    "sorted_codes = all_icd_codes.sort_values('count', ascending=False)\n",
    "sorted_codes.head(31)"
   ]
  },
  {
   "cell_type": "markdown",
   "metadata": {},
   "source": [
    "# Formatting the datasets for use in exploratory, ml and causal analysis"
   ]
  },
  {
   "cell_type": "code",
   "execution_count": null,
   "metadata": {},
   "outputs": [],
   "source": [
    "from collections import Counter"
   ]
  },
  {
   "cell_type": "code",
   "execution_count": null,
   "metadata": {},
   "outputs": [],
   "source": [
    "def label_drug_name(row, frequency):\n",
    "    drugs_list = row['drugs'].lower().split('\\n')\n",
    "    drugs_list_counter = Counter(drugs_list)\n",
    "    if (frequency == 0):\n",
    "        value, count = drugs_list_counter.most_common()[0]\n",
    "    elif (frequency == 1):\n",
    "        if (len(drugs_list_counter) > 1):\n",
    "            value, count = drugs_list_counter.most_common()[1]\n",
    "        else:\n",
    "            value = 'NA'\n",
    "    else:\n",
    "        raise AttributeError(\"Frequency must be 0 or 1\")\n",
    "    return value"
   ]
  },
  {
   "cell_type": "code",
   "execution_count": null,
   "metadata": {},
   "outputs": [],
   "source": [
    "def label_drug_type(row):\n",
    "    if \"no drug\" in row['drug_1']:\n",
    "        return 'ND'\n",
    "    if \"haloperidol\" in row['drug_1']:\n",
    "        return 'HL'\n",
    "    if \"ziprasidone\" in row['drug_1']:\n",
    "        return 'ZP'\n",
    "    return 'OD'"
   ]
  },
  {
   "cell_type": "code",
   "execution_count": null,
   "metadata": {},
   "outputs": [],
   "source": [
    "def label_timelength(row):\n",
    "    if (pd.isna(row['drugstarttime'])):\n",
    "        return -1\n",
    "    \n",
    "    if (pd.notna(row[\"deathtime\"])):\n",
    "        final_time = row[\"deathtime\"]\n",
    "    else:\n",
    "        final_time = row[\"dischtime\"]\n",
    "            \n",
    "    length = pd.Timedelta(pd.to_datetime(final_time) - pd.to_datetime(row[\"drugstarttime\"])).total_seconds()\n",
    "    length_in_days = round(length/ 86400.0) # in days\n",
    "    return length_in_days"
   ]
  },
  {
   "cell_type": "code",
   "execution_count": null,
   "metadata": {},
   "outputs": [],
   "source": [
    "def label_age(row):\n",
    "    if row['age'] > 299:\n",
    "        return 90\n",
    "    else:\n",
    "        return row['age']\n",
    "    return row['age']"
   ]
  },
  {
   "cell_type": "code",
   "execution_count": null,
   "metadata": {},
   "outputs": [],
   "source": [
    "# def label_sex(row):\n",
    "#     if row['gender'] == 'F':\n",
    "#         return 1\n",
    "#     else:\n",
    "#         return 0\n",
    "#     return 1"
   ]
  },
  {
   "cell_type": "code",
   "execution_count": null,
   "metadata": {},
   "outputs": [],
   "source": [
    "# https://grants.nih.gov/grants/guide/notice-files/not-od-15-089.html\n",
    "def label_ethnicity(row):\n",
    "    if (('WHITE' in row[\"ethnicity\"].upper()) | ('EASTERN' in row[\"ethnicity\"].upper())):\n",
    "        return 1\n",
    "    if ('BLACK' in row[\"ethnicity\"].upper()):\n",
    "        return 2\n",
    "    if (('HISPANIC' in row[\"ethnicity\"].upper()) | ('LATINO' in row[\"ethnicity\"].upper())):\n",
    "        return 3\n",
    "    if ('ASIAN' in row[\"ethnicity\"].upper()):\n",
    "        return 4\n",
    "    if (('AMERICAN' in row[\"ethnicity\"].upper()) | ('ALASKA' in row[\"ethnicity\"].upper())):\n",
    "        return 5\n",
    "    return 0"
   ]
  },
  {
   "cell_type": "code",
   "execution_count": null,
   "metadata": {},
   "outputs": [],
   "source": [
    "def label_time_to_mechvent(row):\n",
    "    if ((isinstance(row[\"mechvent_duration_hours\"], int)) | ((isinstance(row[\"mechvent_duration_hours\"], float)))):\n",
    "        return float(row[\"mechvent_duration_hours\"])\n",
    "    else:\n",
    "        if (\",\" in row[\"mechvent_duration_hours\"]):\n",
    "            return float(max(row[\"mechvent_duration_hours\"].split(\",\")))\n",
    "        else:\n",
    "            return float(row[\"mechvent_duration_hours\"])\n",
    "    return 0"
   ]
  },
  {
   "cell_type": "code",
   "execution_count": null,
   "metadata": {},
   "outputs": [],
   "source": [
    "import datetime\n",
    "\n",
    "def label_time_to_mechvent(row):\n",
    "    if pd.isna(row['mechvent_starttime']):\n",
    "        return -1.0\n",
    "    else:\n",
    "        datetimeFormat = '%Y-%m-%d %H:%M:%S'\n",
    "        date1 = row['mechvent_starttime']\n",
    "        date2 = row['admittime']\n",
    "        diff = datetime.datetime.strptime(date1, datetimeFormat) - datetime.datetime.strptime(date2, datetimeFormat)\n",
    "        return (diff.total_seconds() / 86400)\n",
    "    return -1.0"
   ]
  },
  {
   "cell_type": "code",
   "execution_count": null,
   "metadata": {},
   "outputs": [],
   "source": [
    "def label_mechvent(row):\n",
    "    if row['mechvent_count'] == 0:\n",
    "        return 0\n",
    "    else:\n",
    "        return 1\n",
    "    return 0"
   ]
  },
  {
   "cell_type": "code",
   "execution_count": null,
   "metadata": {},
   "outputs": [],
   "source": [
    "def label_mechvent_hours(row):\n",
    "    if ((isinstance(row[\"mechvent_duration_hours\"], int)) | ((isinstance(row[\"mechvent_duration_hours\"], float)))):\n",
    "        return float(row[\"mechvent_duration_hours\"])\n",
    "    else:\n",
    "        if (\",\" in row[\"mechvent_duration_hours\"]):\n",
    "            return float(max(row[\"mechvent_duration_hours\"].split(\",\")))\n",
    "        else:\n",
    "            return float(row[\"mechvent_duration_hours\"])\n",
    "    return 0"
   ]
  },
  {
   "cell_type": "code",
   "execution_count": null,
   "metadata": {},
   "outputs": [],
   "source": [
    "def label_death_type(row):\n",
    "    if (pd.isna(row['deathtime']) or pd.isna(row['deathtime'])):\n",
    "        return -1\n",
    "        \n",
    "    datetimeFormat = '%Y-%m-%d %H:%M:%S'\n",
    "    date1 = row['deathtime']\n",
    "    date2 = row['dischtime']\n",
    "    diff = datetime.datetime.strptime(date1, datetimeFormat) - datetime.datetime.strptime(date2, datetimeFormat)\n",
    "    days = (diff.total_seconds() / 86400)\n",
    "    if (days <= 30):\n",
    "        return 1\n",
    "    elif ((days > 30) & (days <= 90)):\n",
    "        return 2\n",
    "    elif ((days > 90) & (days <= 366)):\n",
    "        return 3\n",
    "    else:\n",
    "        return 4\n",
    "    return 0"
   ]
  },
  {
   "cell_type": "code",
   "execution_count": null,
   "metadata": {},
   "outputs": [],
   "source": [
    "data['drug_1'] = data.apply(lambda row: label_drug_name(row, 0), axis=1)\n",
    "data['drug_2'] = data.apply(lambda row: label_drug_name(row, 1), axis=1)\n",
    "data['drug_group'] = data.apply(lambda row: label_drug_type(row), axis=1)\n",
    "data['drug_timelength'] = data.apply(lambda row: label_timelength(row), axis=1)\n",
    "data['age'] = data.apply(lambda row: label_age(row), axis=1)\n",
    "data['race'] = data.apply(lambda row: label_ethnicity(row), axis=1)\n",
    "data['time_to_mechvent'] = data.apply(lambda row: label_time_to_mechvent(row), axis=1)\n",
    "data['mechvent'] = data.apply(lambda row: label_mechvent(row), axis=1)\n",
    "data['time_in_mechvent'] = data.apply(lambda row: label_mechvent_hours(row), axis=1)\n",
    "data['death_timeline'] = data.apply(lambda row: label_death_type(row), axis=1)"
   ]
  },
  {
   "cell_type": "code",
   "execution_count": null,
   "metadata": {},
   "outputs": [],
   "source": [
    "data.shape"
   ]
  },
  {
   "cell_type": "code",
   "execution_count": null,
   "metadata": {},
   "outputs": [],
   "source": [
    "data.sample(3)"
   ]
  },
  {
   "cell_type": "code",
   "execution_count": null,
   "metadata": {},
   "outputs": [],
   "source": [
    "data.columns"
   ]
  },
  {
   "cell_type": "code",
   "execution_count": null,
   "metadata": {},
   "outputs": [],
   "source": [
    "# dropping: \n",
    "# 'ethnicity', 'mechvent_starttime','drugstarttime', 'admittime', 'dischtime', \n",
    "# 'deathtime', 'mechvent_duration_hours', 'drugs', 'drug_categories', 'death_one_year', 'drug_1', 'drug_2'\n",
    "data = data[['subject_id', 'hadm_id', 'icustay_id', 'sex', 'age', 'race', 'icd9_codes',\n",
    "             'sofa', 'apsiii', 'surgery', 'pneumonia', 'sepsis', 'dementia', 'alzheimers', 'depression', \n",
    "             'anxiety', 'met_acidosis', 'airway_obs', 'copd', 'liver_disease', 'heart_disease', \n",
    "             'mechvent', 'mechvent_count', 'drug_group', 'drug_categories_distinct_count', 'drug_timelength', \n",
    "             'death_hosp', 'death_timeline', 'los_days', 'time_to_mechvent', 'time_in_mechvent']]"
   ]
  },
  {
   "cell_type": "code",
   "execution_count": null,
   "metadata": {},
   "outputs": [],
   "source": [
    "data = data.astype({\"drug_group\": 'category'})"
   ]
  },
  {
   "cell_type": "code",
   "execution_count": null,
   "metadata": {},
   "outputs": [],
   "source": [
    "data.shape"
   ]
  },
  {
   "cell_type": "code",
   "execution_count": null,
   "metadata": {},
   "outputs": [],
   "source": [
    "data.info()"
   ]
  },
  {
   "cell_type": "code",
   "execution_count": null,
   "metadata": {},
   "outputs": [],
   "source": [
    "data.sample(5)"
   ]
  },
  {
   "cell_type": "code",
   "execution_count": null,
   "metadata": {},
   "outputs": [],
   "source": [
    "# count the na s and fix it\n",
    "data.isna().sum()"
   ]
  },
  {
   "cell_type": "code",
   "execution_count": null,
   "metadata": {},
   "outputs": [],
   "source": [
    "data.los_days = data.los_days.fillna(-1)\n",
    "data.time_in_mechvent = data.time_in_mechvent.fillna(-1)\n",
    "data.isna().sum()"
   ]
  },
  {
   "cell_type": "code",
   "execution_count": null,
   "metadata": {},
   "outputs": [],
   "source": [
    "data.to_csv('delirium_data_cleaned.csv', header=True, index=False)\n",
    "sorted_codes.to_csv('delirium_data_icd_codes.csv', header=True, index=False)"
   ]
  },
  {
   "cell_type": "code",
   "execution_count": null,
   "metadata": {},
   "outputs": [],
   "source": []
  }
 ],
 "metadata": {
  "kernelspec": {
   "display_name": "Python 3 (ipykernel)",
   "language": "python",
   "name": "python3"
  },
  "language_info": {
   "codemirror_mode": {
    "name": "ipython",
    "version": 3
   },
   "file_extension": ".py",
   "mimetype": "text/x-python",
   "name": "python",
   "nbconvert_exporter": "python",
   "pygments_lexer": "ipython3",
   "version": "3.9.15"
  }
 },
 "nbformat": 4,
 "nbformat_minor": 4
}
